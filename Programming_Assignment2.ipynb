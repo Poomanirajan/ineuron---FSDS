{
  "nbformat": 4,
  "nbformat_minor": 0,
  "metadata": {
    "colab": {
      "name": "Programming_Assignment2.ipynb",
      "provenance": [],
      "authorship_tag": "ABX9TyO/Bj8Z5mBJT44/DRvYRFSt",
      "include_colab_link": true
    },
    "kernelspec": {
      "name": "python3",
      "display_name": "Python 3"
    },
    "language_info": {
      "name": "python"
    }
  },
  "cells": [
    {
      "cell_type": "markdown",
      "metadata": {
        "id": "view-in-github",
        "colab_type": "text"
      },
      "source": [
        "<a href=\"https://colab.research.google.com/github/Poomanirajan/ineuron---FSDS/blob/main/Programming_Assignment2.ipynb\" target=\"_parent\"><img src=\"https://colab.research.google.com/assets/colab-badge.svg\" alt=\"Open In Colab\"/></a>"
      ]
    },
    {
      "cell_type": "markdown",
      "source": [
        "1.\tWrite a Python program to convert kilometers to miles?"
      ],
      "metadata": {
        "id": "FsFjz9igCn05"
      }
    },
    {
      "cell_type": "code",
      "source": [
        "km=float(input(\"Enter km to convert: \"))\n",
        "mi=km*0.6214\n",
        "print(mi)"
      ],
      "metadata": {
        "colab": {
          "base_uri": "https://localhost:8080/"
        },
        "id": "N7uvdkPtCpG8",
        "outputId": "8a472b7f-96a3-4571-9a1a-0956c38f1634"
      },
      "execution_count": 3,
      "outputs": [
        {
          "output_type": "stream",
          "name": "stdout",
          "text": [
            "Enter km to convert: 5\n",
            "3.1069999999999998\n"
          ]
        }
      ]
    },
    {
      "cell_type": "markdown",
      "source": [
        "2.\tWrite a Python program to convert Celsius to Fahrenheit?"
      ],
      "metadata": {
        "id": "Kv8QRkxKCrFz"
      }
    },
    {
      "cell_type": "code",
      "source": [
        "cel=float(input(\"Enter temperature in celsius to convert: \"))\n",
        "far=(cel*1.8)+32\n",
        "print(\"Fahrenheit: \",far)"
      ],
      "metadata": {
        "colab": {
          "base_uri": "https://localhost:8080/"
        },
        "id": "eMsEh_5qCsxz",
        "outputId": "6de6f1a3-02f0-4d4e-a6d4-6775553c4ce3"
      },
      "execution_count": 6,
      "outputs": [
        {
          "output_type": "stream",
          "name": "stdout",
          "text": [
            "Enter temperature in celsius to convert: 38\n",
            "Fahrenheit:  100.4\n"
          ]
        }
      ]
    },
    {
      "cell_type": "markdown",
      "source": [
        "3.\tWrite a Python program to display calendar?"
      ],
      "metadata": {
        "id": "852UO445CtB7"
      }
    },
    {
      "cell_type": "code",
      "source": [
        "import calendar\n",
        "yy = 2022\n",
        "mm = 5\n",
        "print(calendar.month(yy, mm))"
      ],
      "metadata": {
        "colab": {
          "base_uri": "https://localhost:8080/"
        },
        "id": "J6QeTDGkCvtz",
        "outputId": "fdf5fd4e-6515-4a1e-8ebf-b2d171042cef"
      },
      "execution_count": 8,
      "outputs": [
        {
          "output_type": "stream",
          "name": "stdout",
          "text": [
            "      May 2022\n",
            "Mo Tu We Th Fr Sa Su\n",
            "                   1\n",
            " 2  3  4  5  6  7  8\n",
            " 9 10 11 12 13 14 15\n",
            "16 17 18 19 20 21 22\n",
            "23 24 25 26 27 28 29\n",
            "30 31\n",
            "\n"
          ]
        }
      ]
    },
    {
      "cell_type": "markdown",
      "source": [
        "4.\tWrite a Python program to solve quadratic equation?"
      ],
      "metadata": {
        "id": "1SQoO074C2C8"
      }
    },
    {
      "cell_type": "code",
      "source": [
        "import cmath  \n",
        "a = float(input('Enter a: '))  \n",
        "b = float(input('Enter b: '))  \n",
        "c = float(input('Enter c: '))  \n",
        "d = (b**2)-(4*a*c)   \n",
        "s1 = (-b-cmath.sqrt(d))/(2*a)  \n",
        "s2 = (-b+cmath.sqrt(d))/(2*a)  \n",
        "print('The solution are {0} and {1}'.format(s1,s2))   "
      ],
      "metadata": {
        "colab": {
          "base_uri": "https://localhost:8080/"
        },
        "id": "jwAUjbqIC1zz",
        "outputId": "5ebb824c-a850-4061-a0e2-bb7da4451d23"
      },
      "execution_count": 9,
      "outputs": [
        {
          "output_type": "stream",
          "name": "stdout",
          "text": [
            "Enter a: 1\n",
            "Enter b: 1\n",
            "Enter c: -6\n",
            "The solution are (-3+0j) and (2+0j)\n"
          ]
        }
      ]
    },
    {
      "cell_type": "markdown",
      "source": [
        "5.\tWrite a Python program to swap two variables without temp variable?"
      ],
      "metadata": {
        "id": "PA1f3MibCxFN"
      }
    },
    {
      "cell_type": "code",
      "source": [
        "a = 5\n",
        "b = 7\n",
        "a, b = b, a\n",
        "print(\"Value of a : \", a, \" and b : \", b)"
      ],
      "metadata": {
        "colab": {
          "base_uri": "https://localhost:8080/"
        },
        "id": "L_7g_ds8C2yr",
        "outputId": "c73d326a-b1ca-43ef-c5af-5cbaf6f1393d"
      },
      "execution_count": 10,
      "outputs": [
        {
          "output_type": "stream",
          "name": "stdout",
          "text": [
            "Value of a :  7  and b :  5\n"
          ]
        }
      ]
    }
  ]
}