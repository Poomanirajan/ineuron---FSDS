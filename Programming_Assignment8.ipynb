{
  "nbformat": 4,
  "nbformat_minor": 0,
  "metadata": {
    "colab": {
      "name": "Programming_Assignment8.ipynb",
      "provenance": [],
      "authorship_tag": "ABX9TyN1s7kn0IgiIr+UIgJK3gW2",
      "include_colab_link": true
    },
    "kernelspec": {
      "name": "python3",
      "display_name": "Python 3"
    },
    "language_info": {
      "name": "python"
    }
  },
  "cells": [
    {
      "cell_type": "markdown",
      "metadata": {
        "id": "view-in-github",
        "colab_type": "text"
      },
      "source": [
        "<a href=\"https://colab.research.google.com/github/Poomanirajan/ineuron---FSDS/blob/main/Programming_Assignment8.ipynb\" target=\"_parent\"><img src=\"https://colab.research.google.com/assets/colab-badge.svg\" alt=\"Open In Colab\"/></a>"
      ]
    },
    {
      "cell_type": "markdown",
      "source": [
        "Write a Python Program to Add Two Matrices?"
      ],
      "metadata": {
        "id": "0dJAkAbdijtK"
      }
    },
    {
      "cell_type": "code",
      "source": [
        "A = [[1,2,3],[4,5,6],[7,8,9]]\n",
        "B = [[9,8,7],[6,5,4],[3,2,1]]\n",
        "res = [[0,0,0],[0,0,0],[0,0,0]]\n",
        "for i in range(len(A)):\n",
        "  for j in range(len(A[0])):\n",
        "    res[i][j] = A[i][j] + B[i][j]\n",
        "for r in res:\n",
        "  print(r)\n"
      ],
      "metadata": {
        "colab": {
          "base_uri": "https://localhost:8080/"
        },
        "id": "HTR4lj8tikgh",
        "outputId": "e3596494-0b05-4314-8e31-9722683dd3c2"
      },
      "execution_count": 2,
      "outputs": [
        {
          "output_type": "stream",
          "name": "stdout",
          "text": [
            "[10, 10, 10]\n",
            "[10, 10, 10]\n",
            "[10, 10, 10]\n"
          ]
        }
      ]
    },
    {
      "cell_type": "markdown",
      "source": [
        "Write a Python Program to Multiply Two Matrices?"
      ],
      "metadata": {
        "id": "wZvpzHp2k0g1"
      }
    },
    {
      "cell_type": "code",
      "source": [
        "A = [[1,2,3],[4,5,6],[7,8,9]]\n",
        "B = [[9,8,7],[6,5,4],[3,2,1]]\n",
        "res = [[0,0,0],[0,0,0],[0,0,0]]\n",
        "for i in range(len(A)):\n",
        "  for j in range(len(B[0])):\n",
        "     for k in range(len(B)):\n",
        "      res[i][j] += A[i][k] * B[k][j]\n",
        "for r in res:\n",
        "  print(r)\n"
      ],
      "metadata": {
        "colab": {
          "base_uri": "https://localhost:8080/"
        },
        "id": "epc73aRck3ge",
        "outputId": "ab31655c-075b-4cf0-ec91-76089e951ce3"
      },
      "execution_count": 4,
      "outputs": [
        {
          "output_type": "stream",
          "name": "stdout",
          "text": [
            "[30, 24, 18]\n",
            "[84, 69, 54]\n",
            "[138, 114, 90]\n"
          ]
        }
      ]
    },
    {
      "cell_type": "markdown",
      "source": [
        "Write a Python Program to Transpose a Matrix?"
      ],
      "metadata": {
        "id": "eyiVb_HClqI-"
      }
    },
    {
      "cell_type": "code",
      "source": [
        "A = [[1,2,3],[4,5,6],[7,8,9]]\n",
        "res = [[0,0,0],[0,0,0],[0,0,0]]\n",
        "for i in range(len(A)):\n",
        "  for j in range(len(A[0])):\n",
        "       res[j][i] = A[i][j]\n",
        "for r in res:\n",
        "   print(r)"
      ],
      "metadata": {
        "colab": {
          "base_uri": "https://localhost:8080/"
        },
        "id": "s9UWGvVels8h",
        "outputId": "017aea83-0c26-4dbe-8bda-feaf925e55e6"
      },
      "execution_count": 6,
      "outputs": [
        {
          "output_type": "stream",
          "name": "stdout",
          "text": [
            "[1, 4, 7]\n",
            "[2, 5, 8]\n",
            "[3, 6, 9]\n"
          ]
        }
      ]
    },
    {
      "cell_type": "markdown",
      "source": [
        "Write a Python Program to Sort Words in Alphabetic Order?"
      ],
      "metadata": {
        "id": "KKulvFwFmHxF"
      }
    },
    {
      "cell_type": "code",
      "source": [
        "my_str = input(\"Enter the string: \")\n",
        "words = [word.lower() for word in my_str.split()]\n",
        "words.sort()\n",
        "print(\"The sorted words:\")\n",
        "for word in words:\n",
        "  print(word)"
      ],
      "metadata": {
        "colab": {
          "base_uri": "https://localhost:8080/"
        },
        "id": "RvpAShDFmLbO",
        "outputId": "e0472f25-7d2f-429a-9e99-29ff95967071"
      },
      "execution_count": 7,
      "outputs": [
        {
          "output_type": "stream",
          "name": "stdout",
          "text": [
            "Enter a string: I love my India\n",
            "The sorted words are:\n",
            "i\n",
            "india\n",
            "love\n",
            "my\n"
          ]
        }
      ]
    },
    {
      "cell_type": "markdown",
      "source": [
        "Write a Python Program to Remove Punctuation From a String?"
      ],
      "metadata": {
        "id": "d8VmeCA2xDc-"
      }
    },
    {
      "cell_type": "code",
      "source": [
        "punctuations = '''!()-[]{};:'\"\\,<>./?@#$%^&*_~'''\n",
        "my_str = \"Hey!!!, he told ---and gone.\"\n",
        "no_punct = \"\"\n",
        "for char in my_str:\n",
        "   if char not in punctuations:\n",
        "       no_punct = no_punct + char\n",
        "print(no_punct)\n"
      ],
      "metadata": {
        "colab": {
          "base_uri": "https://localhost:8080/"
        },
        "id": "cEdyn5oOxMy6",
        "outputId": "51a19de8-4ebc-4011-8030-8deba3521e94"
      },
      "execution_count": 8,
      "outputs": [
        {
          "output_type": "stream",
          "name": "stdout",
          "text": [
            "Hey he told and gone\n"
          ]
        }
      ]
    }
  ]
}