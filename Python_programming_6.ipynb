{
  "nbformat": 4,
  "nbformat_minor": 0,
  "metadata": {
    "colab": {
      "name": "Python programming_6.ipynb",
      "provenance": [],
      "authorship_tag": "ABX9TyP+85vnNnlITzuRwyKqHYqo",
      "include_colab_link": true
    },
    "kernelspec": {
      "name": "python3",
      "display_name": "Python 3"
    },
    "language_info": {
      "name": "python"
    }
  },
  "cells": [
    {
      "cell_type": "markdown",
      "metadata": {
        "id": "view-in-github",
        "colab_type": "text"
      },
      "source": [
        "<a href=\"https://colab.research.google.com/github/Poomanirajan/ineuron---FSDS/blob/main/Python_programming_6.ipynb\" target=\"_parent\"><img src=\"https://colab.research.google.com/assets/colab-badge.svg\" alt=\"Open In Colab\"/></a>"
      ]
    },
    {
      "cell_type": "markdown",
      "source": [
        "Write a Python Program to Display Fibonacci Sequence Using Recursion?"
      ],
      "metadata": {
        "id": "DLuPyDzePYl7"
      }
    },
    {
      "cell_type": "code",
      "source": [
        "def recurs_fibo(n):\n",
        "  if n<=1:\n",
        "    return n\n",
        "  else:\n",
        "    return(recurs_fibo(n-1) + recurs_fibo(n-2))\n",
        "\n",
        "nterms = int(input(\"Enter nterms: \"))\n",
        "for i in range(nterms):\n",
        "  print(recurs_fibo(i),end=\" \")"
      ],
      "metadata": {
        "colab": {
          "base_uri": "https://localhost:8080/"
        },
        "id": "03zqQFOqPabF",
        "outputId": "2bbc866a-792e-4fac-db9c-d597ad07a2fb"
      },
      "execution_count": 3,
      "outputs": [
        {
          "output_type": "stream",
          "name": "stdout",
          "text": [
            "Enter nterms: 5\n",
            "0 1 1 2 3 "
          ]
        }
      ]
    },
    {
      "cell_type": "markdown",
      "source": [
        "Write a Python Program to Find Factorial of Number Using Recursion?"
      ],
      "metadata": {
        "id": "csUrF9D4Qhef"
      }
    },
    {
      "cell_type": "code",
      "source": [
        "def recur_fact(n):\n",
        "   if n == 1:\n",
        "       return n\n",
        "   else:\n",
        "       return n*recur_fact(n-1)\n",
        "\n",
        "n = int(input())\n",
        "if n == 0:\n",
        "   print(\"Factorial = 1\")\n",
        "else:\n",
        "   print(\"The factorial is \", recur_fact(n))"
      ],
      "metadata": {
        "colab": {
          "base_uri": "https://localhost:8080/"
        },
        "id": "DwhJaRcOQkfx",
        "outputId": "147e8091-6878-4332-9616-598e8043658f"
      },
      "execution_count": 5,
      "outputs": [
        {
          "output_type": "stream",
          "name": "stdout",
          "text": [
            "3\n",
            "The factorial is  6\n"
          ]
        }
      ]
    },
    {
      "cell_type": "markdown",
      "source": [
        "Write a Python Program to calculate your Body Mass Index?"
      ],
      "metadata": {
        "id": "16CVAXE3RPFW"
      }
    },
    {
      "cell_type": "code",
      "source": [
        "h = float(input(\"Enter the height in cm: \"))  \n",
        "w = float(input(\"Enter the weight in kg: \"))  \n",
        "BMI = w/(h/100)**2  \n",
        "print(\"BMI is \",round(BMI,2))  "
      ],
      "metadata": {
        "colab": {
          "base_uri": "https://localhost:8080/"
        },
        "id": "35YsRmBURRi6",
        "outputId": "e51deccd-6d30-4e3c-b37c-5c950e91ee9b"
      },
      "execution_count": 9,
      "outputs": [
        {
          "output_type": "stream",
          "name": "stdout",
          "text": [
            "Enter the height in cm: 183\n",
            "Enter the weight in kg: 82\n",
            "BMI is  24.49\n"
          ]
        }
      ]
    },
    {
      "cell_type": "markdown",
      "source": [
        "Write a Python Program to calculate the natural logarithm of any number?"
      ],
      "metadata": {
        "id": "OJLIZhNNSxUh"
      }
    },
    {
      "cell_type": "code",
      "source": [
        "import math\n",
        "n=float(input(\"Enter n\"))\n",
        "\n",
        "print (\"math.log(n) :  \", math.log(n))"
      ],
      "metadata": {
        "colab": {
          "base_uri": "https://localhost:8080/"
        },
        "id": "KOaHQoIySzqx",
        "outputId": "27e8a3e5-09df-4246-de66-21a97eaef6b3"
      },
      "execution_count": 13,
      "outputs": [
        {
          "output_type": "stream",
          "name": "stdout",
          "text": [
            "Enter n100\n",
            "math.log(n) :   4.605170185988092\n"
          ]
        }
      ]
    },
    {
      "cell_type": "markdown",
      "source": [
        "Write a Python Program for cube sum of first n natural numbers?"
      ],
      "metadata": {
        "id": "lPMnRhcjbCZY"
      }
    },
    {
      "cell_type": "code",
      "source": [
        "def cubesum(n):\n",
        "    s = 0\n",
        "    for i in range(1, n+1):\n",
        "        s +=i*i*i\n",
        "         \n",
        "    return s\n",
        "n = int(input(\"Enter n: \"))\n",
        "print(cubesum(n))"
      ],
      "metadata": {
        "colab": {
          "base_uri": "https://localhost:8080/"
        },
        "id": "sfjMqN54bEwH",
        "outputId": "a2d2abf7-3f2f-4c67-b321-486a4e597001"
      },
      "execution_count": 15,
      "outputs": [
        {
          "output_type": "stream",
          "name": "stdout",
          "text": [
            "Enter n: 10\n",
            "3025\n"
          ]
        }
      ]
    }
  ]
}