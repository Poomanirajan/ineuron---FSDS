{
  "nbformat": 4,
  "nbformat_minor": 0,
  "metadata": {
    "colab": {
      "name": "Programming_Assignment 5.ipynb",
      "provenance": [],
      "authorship_tag": "ABX9TyOiqMnCc2Lyf4rnNmm3bFr0",
      "include_colab_link": true
    },
    "kernelspec": {
      "name": "python3",
      "display_name": "Python 3"
    },
    "language_info": {
      "name": "python"
    }
  },
  "cells": [
    {
      "cell_type": "markdown",
      "metadata": {
        "id": "view-in-github",
        "colab_type": "text"
      },
      "source": [
        "<a href=\"https://colab.research.google.com/github/Poomanirajan/ineuron---FSDS/blob/main/Programming_Assignment_5.ipynb\" target=\"_parent\"><img src=\"https://colab.research.google.com/assets/colab-badge.svg\" alt=\"Open In Colab\"/></a>"
      ]
    },
    {
      "cell_type": "markdown",
      "source": [
        "1.\tWrite a Python Program to Find LCM?"
      ],
      "metadata": {
        "id": "5fPpzTwIgXcG"
      }
    },
    {
      "cell_type": "code",
      "source": [
        "n1=int(input())\n",
        "n2=int(input())\n",
        "if n1>n2:\n",
        "  greater=n1\n",
        "else:\n",
        "  greater=n2\n",
        "while(True):\n",
        "  if((greater%n1==0)and(greater%n2==0)):\n",
        "    lcm=greater\n",
        "    break\n",
        "  greater+=1\n",
        "print(\"LCM = \",lcm)"
      ],
      "metadata": {
        "colab": {
          "base_uri": "https://localhost:8080/"
        },
        "id": "PgUc-tHRga5c",
        "outputId": "cf0448c1-bede-4ec3-fc4e-9d842a27d995"
      },
      "execution_count": 7,
      "outputs": [
        {
          "output_type": "stream",
          "name": "stdout",
          "text": [
            "23\n",
            "37\n",
            "LCM =  851\n"
          ]
        }
      ]
    },
    {
      "cell_type": "markdown",
      "source": [
        "2.\tWrite a Python Program to Find HCF?"
      ],
      "metadata": {
        "id": "MKi223cFgcVU"
      }
    },
    {
      "cell_type": "code",
      "source": [
        "n1=int(input())\n",
        "n2=int(input())\n",
        "if n1>n2:\n",
        "  small=n2\n",
        "else:\n",
        "  small=n1\n",
        "for i in range(1, small+1):\n",
        "  if((n1%i==0)and(n2%i==0)):\n",
        "    hcf = i\n",
        "print(\"HCF = \", hcf)"
      ],
      "metadata": {
        "colab": {
          "base_uri": "https://localhost:8080/"
        },
        "id": "Ok9nvif3gc7U",
        "outputId": "c891a4e2-0670-48a1-8c7c-9057d0d7d671"
      },
      "execution_count": 11,
      "outputs": [
        {
          "output_type": "stream",
          "name": "stdout",
          "text": [
            "12\n",
            "16\n",
            "HCF =  4\n"
          ]
        }
      ]
    },
    {
      "cell_type": "markdown",
      "source": [
        "3.\tWrite a Python Program to Convert Decimal to Binary, Octal and Hexadecimal?"
      ],
      "metadata": {
        "id": "Zx7mgNe8geg-"
      }
    },
    {
      "cell_type": "code",
      "source": [
        "dec=int(input())\n",
        "print(\"Binary: \",bin(dec))\n",
        "print(\"Octal: \",oct(dec))\n",
        "print(\"Hexa: \",hex(dec))"
      ],
      "metadata": {
        "colab": {
          "base_uri": "https://localhost:8080/"
        },
        "id": "1J52hyUHgfQ7",
        "outputId": "7e203a15-bc72-4f3c-8ea3-01f526ad76c2"
      },
      "execution_count": 12,
      "outputs": [
        {
          "output_type": "stream",
          "name": "stdout",
          "text": [
            "288\n",
            "Binary:  0b100100000\n",
            "Octal:  0o440\n",
            "Hexa:  0x120\n"
          ]
        }
      ]
    },
    {
      "cell_type": "markdown",
      "source": [
        "4.\tWrite a Python Program To Find ASCII value of a character?"
      ],
      "metadata": {
        "id": "DonMGkX_gghr"
      }
    },
    {
      "cell_type": "code",
      "source": [
        "s=input()\n",
        "print(\"ASCII value: \",ord(s))"
      ],
      "metadata": {
        "colab": {
          "base_uri": "https://localhost:8080/"
        },
        "id": "IMmKeD4bghSM",
        "outputId": "355e236f-1285-4d5a-9f6c-1465dc667f8a"
      },
      "execution_count": 14,
      "outputs": [
        {
          "output_type": "stream",
          "name": "stdout",
          "text": [
            "z\n",
            "ASCII value:  122\n"
          ]
        }
      ]
    },
    {
      "cell_type": "markdown",
      "source": [
        "5.\tWrite a Python Program to Make a Simple Calculator with 4 basic mathematical operations?"
      ],
      "metadata": {
        "id": "3iLHFBX3gitj"
      }
    },
    {
      "cell_type": "code",
      "source": [
        "def add(x, y):\n",
        "  return x + y\n",
        "def subtract(x, y):\n",
        "  return x - y\n",
        "def multiply(x, y):\n",
        "  return x * y\n",
        "def divide(x, y):\n",
        "  return x / y\n",
        "\n",
        "num1 = float(input(\"Enter 1st number: \"))\n",
        "num2 = float(input(\"Enter 2nd number: \"))\n",
        "print(\"Select operation.\")\n",
        "print(\"1.Add\")\n",
        "print(\"2.Subtract\")\n",
        "print(\"3.Multiply\")\n",
        "print(\"4.Divide\")\n",
        "\n",
        "while True:\n",
        "    choice = input(\"Enter choice(1/2/3/4): \")\n",
        "    if choice in ('1', '2', '3', '4'):\n",
        "        if choice == '1':\n",
        "            print(\"Add =\",add(num1, num2))\n",
        "        elif choice == '2':\n",
        "            print(\"Subtract = \",subtract(num1, num2))\n",
        "        elif choice == '3':\n",
        "            print(\"Multiply= = \",multiply(num1, num2))\n",
        "        elif choice == '4':\n",
        "            print(\"Divide: \",divide(num1, num2))\n",
        "    break"
      ],
      "metadata": {
        "colab": {
          "base_uri": "https://localhost:8080/"
        },
        "id": "Re7_H7PVgjXr",
        "outputId": "f3f0a8b1-c61a-415f-a400-4c0a188219d5"
      },
      "execution_count": 17,
      "outputs": [
        {
          "output_type": "stream",
          "name": "stdout",
          "text": [
            "Enter 1st number: 12\n",
            "Enter 2nd number: 3\n",
            "Select operation.\n",
            "1.Add\n",
            "2.Subtract\n",
            "3.Multiply\n",
            "4.Divide\n",
            "Enter choice(1/2/3/4): 1\n",
            "Add = 15.0\n"
          ]
        }
      ]
    }
  ]
}