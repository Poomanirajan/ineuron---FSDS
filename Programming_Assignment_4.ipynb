{
  "nbformat": 4,
  "nbformat_minor": 0,
  "metadata": {
    "colab": {
      "name": "Programming_Assignment 4.ipynb",
      "provenance": [],
      "authorship_tag": "ABX9TyM3oBjh2me2Gn9IGKchH4Jk",
      "include_colab_link": true
    },
    "kernelspec": {
      "name": "python3",
      "display_name": "Python 3"
    },
    "language_info": {
      "name": "python"
    }
  },
  "cells": [
    {
      "cell_type": "markdown",
      "metadata": {
        "id": "view-in-github",
        "colab_type": "text"
      },
      "source": [
        "<a href=\"https://colab.research.google.com/github/Poomanirajan/ineuron---FSDS/blob/main/Programming_Assignment_4.ipynb\" target=\"_parent\"><img src=\"https://colab.research.google.com/assets/colab-badge.svg\" alt=\"Open In Colab\"/></a>"
      ]
    },
    {
      "cell_type": "markdown",
      "source": [
        "1.\tWrite a Python Program to Find the Factorial of a Number?"
      ],
      "metadata": {
        "id": "ZLpxRaoXaqlu"
      }
    },
    {
      "cell_type": "code",
      "source": [
        "n=int(input())\n",
        "fact=1\n",
        "if(n==0):\n",
        "  print(\"Factorial is 1\")\n",
        "else:  \n",
        "  for i in range(1,n+1):\n",
        "    fact=fact*i\n",
        "  print(fact) "
      ],
      "metadata": {
        "colab": {
          "base_uri": "https://localhost:8080/"
        },
        "id": "KBjma3rlarRy",
        "outputId": "732b0a5d-0a66-47c5-e401-570335224934"
      },
      "execution_count": null,
      "outputs": [
        {
          "output_type": "stream",
          "name": "stdout",
          "text": [
            "0\n",
            "Factorial is 1\n"
          ]
        }
      ]
    },
    {
      "cell_type": "markdown",
      "source": [
        "2.\tWrite a Python Program to Display the multiplication Table?"
      ],
      "metadata": {
        "id": "X9_CdfBgatAz"
      }
    },
    {
      "cell_type": "code",
      "source": [
        "n=int(input())\n",
        "for i in range(1,11):\n",
        "  print(n,'x',i,'=',n*i)\n"
      ],
      "metadata": {
        "colab": {
          "base_uri": "https://localhost:8080/"
        },
        "id": "4QSkt915auj5",
        "outputId": "b584d06d-8bf5-4c6e-b224-b4067508e192"
      },
      "execution_count": null,
      "outputs": [
        {
          "output_type": "stream",
          "name": "stdout",
          "text": [
            "11\n",
            "11 x 1 = 11\n",
            "11 x 2 = 22\n",
            "11 x 3 = 33\n",
            "11 x 4 = 44\n",
            "11 x 5 = 55\n",
            "11 x 6 = 66\n",
            "11 x 7 = 77\n",
            "11 x 8 = 88\n",
            "11 x 9 = 99\n",
            "11 x 10 = 110\n"
          ]
        }
      ]
    },
    {
      "cell_type": "markdown",
      "source": [
        "3.\tWrite a Python Program to Print the Fibonacci sequence?"
      ],
      "metadata": {
        "id": "7CPb-33gawJS"
      }
    },
    {
      "cell_type": "code",
      "source": [
        "n=int(input(\"nth term\"))\n",
        "n1,n2=0,1\n",
        "count=0\n",
        "if n==1:\n",
        "   print(n1)\n",
        "else:\n",
        "   while count<n:\n",
        "       print(n1)\n",
        "       nth=n1+n2\n",
        "       n1=n2\n",
        "       n2=nth\n",
        "       count+=1"
      ],
      "metadata": {
        "colab": {
          "base_uri": "https://localhost:8080/"
        },
        "id": "5bKoU0qGaw2B",
        "outputId": "152fee2c-572a-450a-fe72-75142fd71e2a"
      },
      "execution_count": null,
      "outputs": [
        {
          "output_type": "stream",
          "name": "stdout",
          "text": [
            "nth term7\n",
            "0\n",
            "1\n",
            "1\n",
            "2\n",
            "3\n",
            "5\n",
            "8\n"
          ]
        }
      ]
    },
    {
      "cell_type": "markdown",
      "source": [
        "4.\tWrite a Python Program to Check Armstrong Number?"
      ],
      "metadata": {
        "id": "E6l9zjQAax9W"
      }
    },
    {
      "cell_type": "code",
      "source": [
        "n=int(input(\"Enter a number: \"))\n",
        "s=0\n",
        "temp=n\n",
        "while temp>0:\n",
        "   digit = temp%10\n",
        "   s += digit**3\n",
        "   temp//=10\n",
        "if n==s:\n",
        "   print(n,\"is an Armstrong number\")\n",
        "else:\n",
        "   print(n,\"is not an Armstrong number\")"
      ],
      "metadata": {
        "colab": {
          "base_uri": "https://localhost:8080/"
        },
        "id": "agi2TQsWayky",
        "outputId": "044ca850-8442-4328-f264-18b2d7cc3fde"
      },
      "execution_count": null,
      "outputs": [
        {
          "output_type": "stream",
          "name": "stdout",
          "text": [
            "Enter a number: 153\n",
            "153 is an Armstrong number\n"
          ]
        }
      ]
    },
    {
      "cell_type": "markdown",
      "source": [
        "5.\tWrite a Python Program to Find Armstrong Number in an Interval?"
      ],
      "metadata": {
        "id": "X1JEtPcra0AP"
      }
    },
    {
      "cell_type": "code",
      "source": [
        "l=int(input())\n",
        "u=int(input())\n",
        "for n in range(l,u+1):\n",
        "   order=len(str(n))\n",
        "   s=0\n",
        "   temp=n\n",
        "   while temp > 0:\n",
        "       digit = temp % 10\n",
        "       s    += digit ** order\n",
        "       temp //= 10\n",
        "   if n==s:\n",
        "       print(n)"
      ],
      "metadata": {
        "colab": {
          "base_uri": "https://localhost:8080/"
        },
        "id": "XFp0kDXna0yS",
        "outputId": "2da28354-e29e-495c-bf7a-49473ddde2cb"
      },
      "execution_count": 6,
      "outputs": [
        {
          "output_type": "stream",
          "name": "stdout",
          "text": [
            "1\n",
            "200\n",
            "1\n",
            "2\n",
            "3\n",
            "4\n",
            "5\n",
            "6\n",
            "7\n",
            "8\n",
            "9\n",
            "153\n"
          ]
        }
      ]
    },
    {
      "cell_type": "markdown",
      "source": [
        "6.\tWrite a Python Program to Find the Sum of Natural Numbers?"
      ],
      "metadata": {
        "id": "lkXtyONOa2Ih"
      }
    },
    {
      "cell_type": "code",
      "source": [
        "n=int(input())\n",
        "s=0\n",
        "while(n>0):\n",
        "       s+=n\n",
        "       n-=1\n",
        "print(\"Sum = \", s)"
      ],
      "metadata": {
        "id": "imn9Qp4ea2yS",
        "colab": {
          "base_uri": "https://localhost:8080/"
        },
        "outputId": "8a88dc5d-3251-41cd-9864-b42fb77559d7"
      },
      "execution_count": 5,
      "outputs": [
        {
          "output_type": "stream",
          "name": "stdout",
          "text": [
            "10\n",
            "Sum =  55\n"
          ]
        }
      ]
    },
    {
      "cell_type": "code",
      "source": [
        ""
      ],
      "metadata": {
        "id": "rXjY16vCff75"
      },
      "execution_count": null,
      "outputs": []
    }
  ]
}