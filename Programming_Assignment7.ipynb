{
  "nbformat": 4,
  "nbformat_minor": 0,
  "metadata": {
    "colab": {
      "name": "Programming_Assignment7.ipynb",
      "provenance": [],
      "authorship_tag": "ABX9TyMjHglFIm1iYiF9eDyv+MTi",
      "include_colab_link": true
    },
    "kernelspec": {
      "name": "python3",
      "display_name": "Python 3"
    },
    "language_info": {
      "name": "python"
    }
  },
  "cells": [
    {
      "cell_type": "markdown",
      "metadata": {
        "id": "view-in-github",
        "colab_type": "text"
      },
      "source": [
        "<a href=\"https://colab.research.google.com/github/Poomanirajan/ineuron---FSDS/blob/main/Programming_Assignment7.ipynb\" target=\"_parent\"><img src=\"https://colab.research.google.com/assets/colab-badge.svg\" alt=\"Open In Colab\"/></a>"
      ]
    },
    {
      "cell_type": "markdown",
      "source": [
        "Write a Python Program to find sum of array?"
      ],
      "metadata": {
        "id": "bAoeyDByb9RP"
      }
    },
    {
      "cell_type": "code",
      "source": [
        "lst = []\n",
        "n = int(input(\"Enter number of elements : \"))\n",
        "for i in range(0, n):\n",
        "    ele = int(input())\n",
        "    lst.append(ele)\n",
        "sum=0\n",
        "for i in lst:\n",
        "  sum = sum + i\n",
        "print(\"Sum of Array: \",sum)\n",
        " "
      ],
      "metadata": {
        "colab": {
          "base_uri": "https://localhost:8080/"
        },
        "id": "lHIMGkkib_Xy",
        "outputId": "7eda895f-91a4-4f63-88f2-f46ea093c214"
      },
      "execution_count": 3,
      "outputs": [
        {
          "output_type": "stream",
          "name": "stdout",
          "text": [
            "Enter number of elements : 3\n",
            "1\n",
            "2\n",
            "3\n",
            "Sum of Array:  6\n"
          ]
        }
      ]
    },
    {
      "cell_type": "markdown",
      "source": [
        "Write a Python Program to find largest element in an array?"
      ],
      "metadata": {
        "id": "5gapcGHRdjzi"
      }
    },
    {
      "cell_type": "code",
      "source": [
        "lst = []\n",
        "n = int(input(\"Enter number of elements : \"))\n",
        "for i in range(0, n):\n",
        "    ele = int(input())\n",
        "    lst.append(ele)\n",
        "large=max(lst)\n",
        "print(\"Largest Element: \",large)"
      ],
      "metadata": {
        "colab": {
          "base_uri": "https://localhost:8080/"
        },
        "id": "0jXF9OivdnNk",
        "outputId": "d1fa1fd1-3ba2-486a-ae2b-c123d429619c"
      },
      "execution_count": 6,
      "outputs": [
        {
          "output_type": "stream",
          "name": "stdout",
          "text": [
            "Enter number of elements : 3\n",
            "1\n",
            "2\n",
            "3\n",
            "Largest Element:  3\n"
          ]
        }
      ]
    },
    {
      "cell_type": "markdown",
      "source": [
        "Write a Python Program for array rotation?"
      ],
      "metadata": {
        "id": "PHJmBhIVfE7Y"
      }
    },
    {
      "cell_type": "code",
      "source": [
        "def rotateArray(arr, n, d):\n",
        "    temp = []\n",
        "    i = 0\n",
        "    while (i < d):\n",
        "        temp.append(arr[i])\n",
        "        i = i + 1\n",
        "    i = 0\n",
        "    while (d < n):\n",
        "        arr[i] = arr[d]\n",
        "        i = i + 1\n",
        "        d = d + 1\n",
        "    arr[:] = arr[: i] + temp\n",
        "    return arr\n",
        "arr = [10, 20, 30, 40, 50, 60, 70]\n",
        "print(\"Array after rotation is: \", end=' ')\n",
        "print(rotateArray(arr, len(arr), 2))"
      ],
      "metadata": {
        "colab": {
          "base_uri": "https://localhost:8080/"
        },
        "id": "YlSXP017fJUq",
        "outputId": "3736d26f-515b-4d69-a9c4-36bfc6fc78a4"
      },
      "execution_count": 10,
      "outputs": [
        {
          "output_type": "stream",
          "name": "stdout",
          "text": [
            "Array after rotation is:  [30, 40, 50, 60, 70, 10, 20]\n"
          ]
        }
      ]
    },
    {
      "cell_type": "markdown",
      "source": [
        "Write a Python Program to Split the array and add the first part to the end?"
      ],
      "metadata": {
        "id": "5Sy0nffkf5jg"
      }
    },
    {
      "cell_type": "code",
      "source": [
        "def splitArr(arr, n, k): \n",
        "    for i in range(0, k): \n",
        "        x = arr[0]\n",
        "        for j in range(0, n-1):\n",
        "            arr[j] = arr[j + 1]\n",
        "          \n",
        "        arr[n-1] = x\n",
        "arr = [1,2,3,4,5,6]\n",
        "n = len(arr)\n",
        "position = 2 \n",
        "splitArr(arr, n, position)\n",
        "for i in range(0, n): \n",
        "    print(arr[i], end = ' ')"
      ],
      "metadata": {
        "colab": {
          "base_uri": "https://localhost:8080/"
        },
        "id": "ZQZpoOhyf8AH",
        "outputId": "4eb8a84a-ecdc-4b31-8c63-98ee74a01b67"
      },
      "execution_count": 9,
      "outputs": [
        {
          "output_type": "stream",
          "name": "stdout",
          "text": [
            "3 4 5 6 1 2 "
          ]
        }
      ]
    },
    {
      "cell_type": "markdown",
      "source": [
        "Write a Python Program to check if given array is Monotonic?"
      ],
      "metadata": {
        "id": "3Su5WXMYhjq-"
      }
    },
    {
      "cell_type": "code",
      "source": [
        "def isMonotonic(A):  \n",
        "    return (all(A[i] <= A[i + 1] for i in range(len(A) - 1)) or all(A[i] >= A[i + 1] for i in range(len(A) - 1)))  \n",
        "A = [10,20,25,15]\n",
        "print(isMonotonic(A))"
      ],
      "metadata": {
        "colab": {
          "base_uri": "https://localhost:8080/"
        },
        "id": "wewSlovlhkwy",
        "outputId": "2b66f290-8840-4f25-990a-d3027e8bd6f7"
      },
      "execution_count": 11,
      "outputs": [
        {
          "output_type": "stream",
          "name": "stdout",
          "text": [
            "False\n"
          ]
        }
      ]
    }
  ]
}